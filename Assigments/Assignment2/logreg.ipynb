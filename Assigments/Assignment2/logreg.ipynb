{
 "cells": [
  {
   "cell_type": "code",
   "execution_count": 1,
   "metadata": {
    "tags": []
   },
   "outputs": [],
   "source": [
    "import numpy as np\n",
    "from logreg import LogReg"
   ]
  },
  {
   "cell_type": "markdown",
   "metadata": {},
   "source": [
    "## Train"
   ]
  },
  {
   "cell_type": "code",
   "execution_count": 2,
   "metadata": {},
   "outputs": [],
   "source": [
    "f = open('IrisTrainML.dt', 'r')\n",
    "iris_rows = [x for x in f.read().split('\\n')[:-1] if not x[-1] == '2']\n",
    "lengths = np.array([x.split(' ')[0] for x in iris_rows], dtype=float)\n",
    "width = np.array([x.split(' ')[1] for x in iris_rows], dtype=float)\n",
    "type_train = np.array([x.split(' ')[2] for x in iris_rows], dtype=int)\n",
    "xs_train = [np.array(x) for x in list(zip(lengths, width, [1.0]*len(lengths)))]"
   ]
  },
  {
   "cell_type": "markdown",
   "metadata": {},
   "source": [
    "## Test"
   ]
  },
  {
   "cell_type": "code",
   "execution_count": 3,
   "metadata": {},
   "outputs": [],
   "source": [
    "f = open('IrisTestML.dt', 'r')\n",
    "iris_rows = [x for x in f.read().split('\\n')[:-1] if not x[-1] == '2']\n",
    "lengths = np.array([x.split(' ')[0] for x in iris_rows], dtype=float)\n",
    "width = np.array([x.split(' ')[1] for x in iris_rows], dtype=float)\n",
    "type_test = np.array([x.split(' ')[2] for x in iris_rows], dtype=int)\n",
    "xs_test = [np.array(x) for x in list(zip(lengths, width, [1.0]*len(lengths)))]"
   ]
  },
  {
   "cell_type": "markdown",
   "metadata": {},
   "source": [
    "## Calculate training and test errors"
   ]
  },
  {
   "cell_type": "code",
   "execution_count": 4,
   "metadata": {},
   "outputs": [],
   "source": [
    "l = LogReg(xs_train, type_train, learning_rate=0.1)"
   ]
  },
  {
   "cell_type": "code",
   "execution_count": 5,
   "metadata": {
    "tags": []
   },
   "outputs": [
    {
     "output_type": "stream",
     "name": "stdout",
     "text": "Reached 10000 iterations.\nReached 20000 iterations.\nReached 30000 iterations.\nReached 40000 iterations.\nReached 50000 iterations.\n"
    },
    {
     "output_type": "execute_result",
     "data": {
      "text/plain": "0.0"
     },
     "metadata": {},
     "execution_count": 5
    }
   ],
   "source": [
    "train_error = l.validate(xs_train, type_train)\n",
    "train_error"
   ]
  },
  {
   "cell_type": "code",
   "execution_count": 6,
   "metadata": {
    "tags": []
   },
   "outputs": [
    {
     "output_type": "execute_result",
     "data": {
      "text/plain": "0.0"
     },
     "metadata": {},
     "execution_count": 6
    }
   ],
   "source": [
    "test_error = l.validate(xs_test, type_test)\n",
    "test_error\n"
   ]
  },
  {
   "cell_type": "code",
   "execution_count": 10,
   "metadata": {},
   "outputs": [
    {
     "output_type": "execute_result",
     "data": {
      "text/plain": "array([  6.16022789, -36.00446999, -21.49705778])"
     },
     "metadata": {},
     "execution_count": 10
    }
   ],
   "source": [
    "l.weights[-2]"
   ]
  },
  {
   "cell_type": "markdown",
   "metadata": {},
   "source": [
    "## Algorithm\n",
    "\n",
    "The algorithm is essentially `_calculate_weights()`, which uses (batch) gradient descent to minimize the in-sample error.\n",
    "\n",
    "1. The algorithm is initialized with random normal distributed weights: \n",
    "\n",
    "```\n",
    "self.weights = [np.random.normal(0, 0.001, 3)]\n",
    "```\n",
    "`self.weights` is a list which stores the weights from each iteration, to determine if the termination criterion are met.\n",
    "\n",
    "2. There are three termination criterion,\n",
    "```\n",
    "(step_count < 100000),\n",
    "(self.errors[-1] > 0.01),\n",
    "(self._change_of_error())\n",
    "```\n",
    "i.e. maximum number of iterations, bound on size of error, and a bound on the rate of change in the errors.\n",
    "While these all of these are true:\n",
    "- the gradient is calculated using `_compute_gradient(weights)` which accepts the current weights.\n",
    "- Then the weights are updated using `_update_weight(gradient)` which accepts the current gradient.\n",
    "- Then the error is calculated using `_calculate_error(weights)` which accepts the newly updated weights. These are used for evaluation of the termination criterion.\n",
    "\n",
    "Once the `weights` are calculated the method `predict(x)` which accepts `(length, width, 1)` (for homogeneity) calculates $\\theta(w^Tx)$ via `_theta`. The result is rounded to obtain the prediction. \n"
   ]
  },
  {
   "cell_type": "code",
   "execution_count": null,
   "metadata": {},
   "outputs": [],
   "source": []
  }
 ],
 "metadata": {
  "language_info": {
   "codemirror_mode": {
    "name": "ipython",
    "version": 3
   },
   "file_extension": ".py",
   "mimetype": "text/x-python",
   "name": "python",
   "nbconvert_exporter": "python",
   "pygments_lexer": "ipython3",
   "version": "3.6.9-final"
  },
  "orig_nbformat": 2,
  "kernelspec": {
   "name": "python36964biteeefebd9ef7a49479eeb32683c20d448",
   "display_name": "Python 3.6.9 64-bit"
  }
 },
 "nbformat": 4,
 "nbformat_minor": 2
}