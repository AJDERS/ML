{
 "cells": [
  {
   "cell_type": "markdown",
   "metadata": {},
   "source": [
    "# Exercise 0: Install python 3 and jupyter notebook\n",
    "\n",
    "### 1.1) Install python on Windows\n",
    "Download installer from\n",
    "https://www.python.org/downloads/windows/ and follow the installation process. Restart your computer afterwards.\n",
    "### 1.2) Install jupyter notebook on windows using pip\n",
    "Open your terminal, then execute:\n",
    "\n",
    "```\n",
    "python -m pip install --upgrade pip\n",
    "python -m pip install jupyter\n",
    "```\n",
    "### 2.1) Install python on Linux / Ubuntu\n",
    "Open your terminal, then execute:\n",
    "\n",
    "```\n",
    "sudo apt-get install python3.7\n",
    "```\n",
    "\n",
    "### 2.2) Install jupyter notebook on Linux / Ubuntu using pip\n",
    "Open your terminal, then execute:\n",
    "\n",
    "```\n",
    "python3.7 -m pip install --upgrade pip\n",
    "python3.7 -m pip install jupyter\n",
    "```\n",
    "\n",
    "### 3) Start your notebook server\n",
    "In your terminal, execute:\n",
    "```\n",
    "jupyter notebook\n",
    "```\n",
    "\n",
    "After a few seconds your browser should open and display the jupyter home\n"
   ]
  },
  {
   "cell_type": "markdown",
   "metadata": {},
   "source": [
    "# Exercise 1: Our first notebook\n",
    "1. Create a new Jupyter notebook called `python_basics`\n",
    "2. Inside the file, write:\n",
    "```\n",
    "print(\"Hello, World!\")\n",
    "```\n",
    "3. Run the cell\n",
    "4. Insert a cell above this one (i.e. at the top). Turn it into a mark-down cell. Add a title (e.g. \"Python basics\"), and a short description of this document (e.g. \"Exercises for the Python introduction session\"). \n",
    "\n",
    "A markdown reference can be found at https://www.markdownguide.org/cheat-sheet/."
   ]
  },
  {
   "cell_type": "markdown",
   "metadata": {},
   "source": [
    "# Title\n",
    "## subtitle\n",
    "1. list 1\n",
    "2. list 2\n",
    "\n",
    "$$\n",
    "1 + 2 = 3\n",
    "$$"
   ]
  },
  {
   "cell_type": "code",
   "execution_count": 6,
   "metadata": {},
   "outputs": [
    {
     "name": "stdout",
     "output_type": "stream",
     "text": [
      "Hello, World!\n"
     ]
    }
   ],
   "source": [
    "print('Hello, World!')"
   ]
  },
  {
   "cell_type": "markdown",
   "metadata": {},
   "source": [
    "# Exercise 2: Strings\n",
    "1. Create three variables. One called firstname with your first name, one called lastname with your last name and one called age with your age.\n",
    "2. Merge these strings into one string. When the string is printed to the screen, the output should look like:\n",
    "```\n",
    "Name: *myfirstname* *mylastname*\n",
    "Age: *age*\n",
    "```"
   ]
  },
  {
   "cell_type": "code",
   "execution_count": 3,
   "metadata": {},
   "outputs": [
    {
     "name": "stdout",
     "output_type": "stream",
     "text": [
      "firstname: Steffen Czolbe\n",
      "Age: 25\n"
     ]
    }
   ],
   "source": [
    "firstname = 'Steffen'\n",
    "lastname = 'Czolbe'\n",
    "age = 25\n",
    "\n",
    "print('firstname: ' + firstname + ' ' + lastname + '\\nAge: ' + str(age))"
   ]
  },
  {
   "cell_type": "markdown",
   "metadata": {},
   "source": [
    "# Exercise 3: Lists\n",
    "1. Create a variable containing a list with the following five items:\n",
    "```\n",
    "\"One\", \"Two\", \"Three\", \"Four\", \"Five\"\n",
    "```\n",
    "2. Print out a list containing the first 3 elements.\n",
    "3. Print out the last element.\n",
    "4. Print out a list containing the last element."
   ]
  },
  {
   "cell_type": "code",
   "execution_count": 9,
   "metadata": {},
   "outputs": [
    {
     "name": "stdout",
     "output_type": "stream",
     "text": [
      "['One', 'Two', 'Three']\n",
      "Five\n",
      "['Five']\n"
     ]
    }
   ],
   "source": [
    "l = [\"One\", \"Two\", \"Three\", \"Four\", \"Five\"]\n",
    "print(l[:3])\n",
    "print(l[-1])\n",
    "print(l[-1:])"
   ]
  },
  {
   "cell_type": "code",
   "execution_count": 13,
   "metadata": {
    "collapsed": true
   },
   "outputs": [],
   "source": [
    "l1 = []\n",
    "l1.append(l[-1])"
   ]
  },
  {
   "cell_type": "code",
   "execution_count": 14,
   "metadata": {},
   "outputs": [
    {
     "name": "stdout",
     "output_type": "stream",
     "text": [
      "['Five']\n"
     ]
    }
   ],
   "source": [
    "print(l1)"
   ]
  },
  {
   "cell_type": "markdown",
   "metadata": {},
   "source": [
    "# Exercise 5: Branching\n",
    "1. Use the random number generator to generate a random number between 0 and 1, and use this number to simulate throwing a die."
   ]
  },
  {
   "cell_type": "code",
   "execution_count": 53,
   "metadata": {},
   "outputs": [
    {
     "name": "stdout",
     "output_type": "stream",
     "text": [
      "2\n"
     ]
    }
   ],
   "source": [
    "import random\n",
    "\n",
    "x = random.random()\n",
    "\n",
    "if x < 1/ 6:\n",
    "    print(1)\n",
    "elif x < 2/6:\n",
    "    print(2)\n",
    "elif x < 3/6:\n",
    "    print(3)\n",
    "elif x < 4/6:\n",
    "    print(4)\n",
    "elif x < 5/6:\n",
    "    print(5)\n",
    "elif x < 6/6:\n",
    "    print(6)"
   ]
  },
  {
   "cell_type": "code",
   "execution_count": 65,
   "metadata": {},
   "outputs": [
    {
     "data": {
      "text/plain": [
       "4"
      ]
     },
     "execution_count": 65,
     "metadata": {},
     "output_type": "execute_result"
    }
   ],
   "source": [
    "random.randint(1,6)"
   ]
  },
  {
   "cell_type": "code",
   "execution_count": 77,
   "metadata": {},
   "outputs": [
    {
     "name": "stdout",
     "output_type": "stream",
     "text": [
      "1\n"
     ]
    }
   ],
   "source": [
    "x = random.random()\n",
    "print(str(int(x*6 + 1)))"
   ]
  },
  {
   "cell_type": "markdown",
   "metadata": {},
   "source": [
    "# Exercise 6: Loops\n",
    "1. Create the following list: `[6,9,4,8,7,1,2]`.\n",
    "2. Write a **while** loop that prints each element in the list.\n",
    "3. Write a **for** loop that prints each element in the list.\n",
    "4. Write a loop that prints all elements that are larger than their left neighbour (for the above example: 9, 8, 2). Which type of loop is best suited for this purpose?\n",
    "\n"
   ]
  },
  {
   "cell_type": "code",
   "execution_count": 80,
   "metadata": {},
   "outputs": [
    {
     "name": "stdout",
     "output_type": "stream",
     "text": [
      "6\n",
      "9\n",
      "4\n",
      "8\n",
      "7\n",
      "1\n",
      "2\n"
     ]
    }
   ],
   "source": [
    "l = [6,9,4,8,7,1,2]\n",
    "i = 0\n",
    "while i < len(l):\n",
    "    print(l[i])\n",
    "    i += 1"
   ]
  },
  {
   "cell_type": "code",
   "execution_count": 81,
   "metadata": {},
   "outputs": [
    {
     "name": "stdout",
     "output_type": "stream",
     "text": [
      "6\n",
      "9\n",
      "4\n",
      "8\n",
      "7\n",
      "1\n",
      "2\n"
     ]
    }
   ],
   "source": [
    "for val in l:\n",
    "    print(val)"
   ]
  },
  {
   "cell_type": "code",
   "execution_count": 82,
   "metadata": {},
   "outputs": [
    {
     "name": "stdout",
     "output_type": "stream",
     "text": [
      "6\n",
      "9\n",
      "8\n",
      "2\n"
     ]
    }
   ],
   "source": [
    "left_neighbour = -999999\n",
    "for val in l:\n",
    "    if val > left_neighbour:\n",
    "        print(val)\n",
    "    left_neighbour = val"
   ]
  },
  {
   "cell_type": "code",
   "execution_count": 83,
   "metadata": {},
   "outputs": [
    {
     "name": "stdout",
     "output_type": "stream",
     "text": [
      "[6, 9, 4, 8, 7, 1, 2]\n"
     ]
    }
   ],
   "source": [
    "print(l)"
   ]
  },
  {
   "cell_type": "markdown",
   "metadata": {},
   "source": [
    "# Exercise 7: Functions without return value\n",
    "1. Turn the die simulator from the branching exercise into a function called die, so that you can just call the function to print the result for a random throw of a die."
   ]
  },
  {
   "cell_type": "code",
   "execution_count": 86,
   "metadata": {
    "collapsed": true
   },
   "outputs": [],
   "source": [
    "def die():\n",
    "    x = random.randint(1,6)\n",
    "    print(x)"
   ]
  },
  {
   "cell_type": "code",
   "execution_count": 100,
   "metadata": {},
   "outputs": [
    {
     "name": "stdout",
     "output_type": "stream",
     "text": [
      "5\n"
     ]
    }
   ],
   "source": [
    "die()"
   ]
  },
  {
   "cell_type": "markdown",
   "metadata": {},
   "source": [
    "# Exercise 8: Functions with return value\n",
    "1. Change your die function so that it returns its result, instead of printing it\n",
    "2. Create another function called dice that simulates throwing two dice and calculating the sum. This function should use the die function."
   ]
  },
  {
   "cell_type": "code",
   "execution_count": 114,
   "metadata": {},
   "outputs": [],
   "source": [
    "def die(sides):\n",
    "    x = random.randint(1,sides)\n",
    "    return x"
   ]
  },
  {
   "cell_type": "code",
   "execution_count": 131,
   "metadata": {},
   "outputs": [
    {
     "name": "stdout",
     "output_type": "stream",
     "text": [
      "1\n"
     ]
    }
   ],
   "source": [
    "result = die(2)\n",
    "print(result)"
   ]
  },
  {
   "cell_type": "code",
   "execution_count": 132,
   "metadata": {
    "collapsed": true
   },
   "outputs": [],
   "source": [
    "def dice():\n",
    "    d1 = die(6)\n",
    "    d2 = die(6)\n",
    "    return d1 + d2"
   ]
  },
  {
   "cell_type": "code",
   "execution_count": 143,
   "metadata": {},
   "outputs": [
    {
     "name": "stdout",
     "output_type": "stream",
     "text": [
      "9\n"
     ]
    }
   ],
   "source": [
    "result = dice()\n",
    "print(result)"
   ]
  },
  {
   "cell_type": "markdown",
   "metadata": {},
   "source": [
    "# Exercise 11: numpy 1\n",
    "The previous slide provides us with a very simple way to simulate throwing 2 dice (like we did earlier).\n",
    "\n",
    "1. Create a one-line python statement that calculates the average of 10,000 throws of the sum of two dice.  \n",
    "Hint: `np.average(a)` calculates the average over the array `a`. `a.mean()` achieves the same.\n",
    "\n",
    "Hint: you might have to install numpy:\n",
    "```\n",
    "python3 -m pip install numpy\n",
    "```"
   ]
  },
  {
   "cell_type": "code",
   "execution_count": 145,
   "metadata": {
    "collapsed": true
   },
   "outputs": [],
   "source": [
    "import numpy as np"
   ]
  },
  {
   "cell_type": "code",
   "execution_count": 147,
   "metadata": {},
   "outputs": [
    {
     "data": {
      "text/plain": [
       "7.0076999999999998"
      ]
     },
     "execution_count": 147,
     "metadata": {},
     "output_type": "execute_result"
    }
   ],
   "source": [
    "(np.random.randint(1,7,10000) + np.random.randint(1,7,10000)).mean()"
   ]
  },
  {
   "cell_type": "markdown",
   "metadata": {},
   "source": [
    "# Exercise 12: numpy 2\n",
    "Remember Assignment 1 where we calculated the average of two columns of numbers?\n",
    "\n",
    "1. If you don't already have it, get experimental_results.txt: https://wouterboomsma.github.io/python_ml_2018/data/experimental_results.txt.\n",
    "2. Read this file into a numpy array called data.\n",
    "3. Calculate the average of each of the two columns\n",
    "4. Create a numpy array called data_subset, and set it to contain the first 500 values of the second column of the data array.\n",
    "5. Set all entries in the data_subset variable to zero.\n",
    "6. Now calculate the average of each of the two columns in the data array again."
   ]
  },
  {
   "cell_type": "code",
   "execution_count": 173,
   "metadata": {},
   "outputs": [],
   "source": [
    "a = np.genfromtxt('./experimental_results.txt')"
   ]
  },
  {
   "cell_type": "code",
   "execution_count": 174,
   "metadata": {},
   "outputs": [
    {
     "name": "stdout",
     "output_type": "stream",
     "text": [
      "0.495052368\n",
      "0.498952201\n"
     ]
    }
   ],
   "source": [
    "print(a[:, 0].mean())\n",
    "print(a[:, 1].mean())"
   ]
  },
  {
   "cell_type": "code",
   "execution_count": 175,
   "metadata": {
    "collapsed": true
   },
   "outputs": [],
   "source": [
    "data_subset = np.copy(a[:500, 1])"
   ]
  },
  {
   "cell_type": "code",
   "execution_count": 176,
   "metadata": {},
   "outputs": [],
   "source": [
    "data_subset[:] = 0"
   ]
  },
  {
   "cell_type": "code",
   "execution_count": 177,
   "metadata": {},
   "outputs": [
    {
     "name": "stdout",
     "output_type": "stream",
     "text": [
      "0.495052368\n",
      "0.498952201\n"
     ]
    }
   ],
   "source": [
    "print(a[:, 0].mean())\n",
    "print(np.average(a[:, 1]))"
   ]
  },
  {
   "cell_type": "markdown",
   "metadata": {},
   "source": [
    "# Exercise 13: matplotlib\n",
    "Remember the die example from before?\n",
    "```\n",
    "np.average(np.random.randint(1,7,10000) + np.random.randint(1,7,10000))\n",
    "```\n",
    "1. Instead of taking the average, use the plt.hist function to plot the distribution of outcomes from the sum of two dice. That is: plot the frequency of observing all the different outcomes.\n",
    "2. Does the result look like what you would expect?\n",
    "3. Add labels and a title"
   ]
  },
  {
   "cell_type": "code",
   "execution_count": 178,
   "metadata": {
    "collapsed": true
   },
   "outputs": [],
   "source": [
    "import matplotlib.pyplot as plt\n",
    "%matplotlib inline"
   ]
  },
  {
   "cell_type": "code",
   "execution_count": 183,
   "metadata": {},
   "outputs": [
    {
     "data": {
      "image/png": "[encoded data removed]",
      "text/plain": [
       "<matplotlib.figure.Figure at 0x7efd981aac50>"
      ]
     },
     "metadata": {},
     "output_type": "display_data"
    }
   ],
   "source": [
    "dist = (np.random.randint(1,7,10000) +\n",
    "        np.random.randint(1,7,10000))\n",
    "plt.hist(dist, bins=np.arange(1.5, 13.5, 1))\n",
    "\n",
    "plt.title(\"dice throw experiment\")\n",
    "\n",
    "plt.show()"
   ]
  },
  {
   "cell_type": "markdown",
   "metadata": {},
   "source": [
    "# Self Assessment: Programming\n",
    "This is the programming exercise from the course readyness self assessment sheet. Try to solve it now!\n",
    "\n",
    "1. Download the Iris dataset from UCI Machine Learning repository, `https://archive.ics.uci.edu/ml/datasets/iris`. The data set contains 3 classes of 50 instances each, where each class refers to a type of iris plant.\n",
    "2. Visualize the data set in the 2D space of the first two features (sepal length and sepal width). Points from different classes should be visualized with different colors.\n",
    "3. Calculate the average sepal length for each of the three classes.\n",
    "4. Calculate the variance of sepal length for each of the three classes."
   ]
  }
 ],
 "metadata": {
  "kernelspec": {
   "display_name": "Python 3",
   "language": "python",
   "name": "python3"
  },
  "language_info": {
   "codemirror_mode": {
    "name": "ipython",
    "version": 3
   },
   "file_extension": ".py",
   "mimetype": "text/x-python",
   "name": "python",
   "nbconvert_exporter": "python",
   "pygments_lexer": "ipython3",
   "version": "3.6.3"
  }
 },
 "nbformat": 4,
 "nbformat_minor": 2
}
