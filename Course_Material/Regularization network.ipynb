{
 "cells": [
  {
   "cell_type": "markdown",
   "metadata": {},
   "source": [
    "# Regularization Network\n",
    "\n",
    "Quickly hacked this regularization network example base on https://scikit-learn.org/stable/auto_examples/gaussian_process/plot_gpr_noisy_targets.html by Vincent Dubourg, Jake Vanderplas, Jan Hendrik Metzen.\n",
    "\n",
    "A Gaussian process for regression and the regularization network give the same solution, therefore I just simplified their Gaussian process example to demonstrate regularization networks. This explains why the network is called `gp`."
   ]
  },
  {
   "cell_type": "code",
   "execution_count": null,
   "metadata": {},
   "outputs": [],
   "source": [
    "import numpy as np\n",
    "from matplotlib import pyplot as plt\n",
    "\n",
    "from sklearn.gaussian_process import GaussianProcessRegressor\n",
    "from sklearn.gaussian_process.kernels import RBF\n",
    "\n",
    "%matplotlib inline\n",
    "import ipywidgets as widgets\n",
    "from ipywidgets import interactive, fixed"
   ]
  },
  {
   "cell_type": "code",
   "execution_count": null,
   "metadata": {},
   "outputs": [],
   "source": [
    "# Generate some data, sinc function plus Gaussian noise\n",
    "np.random.seed(42)\n",
    "def f(x):\n",
    "    \"\"\"The function to predict.\"\"\"\n",
    "    return x * np.sin(x)\n",
    "X = np.atleast_2d([1., 3., 5., 6., 7., 8.]).T\n",
    "y = f(X).ravel()\n",
    "y += 2 * np.random.random(y.shape)"
   ]
  },
  {
   "cell_type": "code",
   "execution_count": null,
   "metadata": {},
   "outputs": [],
   "source": [
    "def make_plot(X, y, log_scale_length, log_alpha):\n",
    "    # Mesh the input space for evaluations of the real function, the prediction \n",
    "    x = np.atleast_2d(np.linspace(0, 10, 1000)).T\n",
    "\n",
    "    # Instantiate model\n",
    "    kernel = RBF(np.exp(log_scale_length))\n",
    "    gp = GaussianProcessRegressor(kernel=kernel, alpha=np.exp(log_alpha))\n",
    "\n",
    "    # Fit to data \n",
    "    gp.fit(X, y)\n",
    "\n",
    "    # Make the prediction on the meshed x-axis (ask for MSE as well)\n",
    "    y_pred, sigma = gp.predict(x, return_std=True)\n",
    "\n",
    "    # Plot the function and the prediction \n",
    "    plt.figure()\n",
    "    plt.plot(x, f(x), 'r:', label=u'$f(x) = x\\,\\sin(x)$')\n",
    "    plt.plot(X, y, 'r.', markersize=10, label=u'Observations')\n",
    "    plt.plot(x, y_pred, 'b-', label=u'Prediction')\n",
    "    #plt.fill(np.concatenate([x, x[::-1]]),\n",
    "    #         np.concatenate([y_pred - 1.9600 * sigma,\n",
    "    #                        (y_pred + 1.9600 * sigma)[::-1]]),\n",
    "    #            alpha=.5, fc='b', ec='None', label='95% confidence interval')\n",
    "    plt.xlabel('$x$')\n",
    "    plt.ylabel('$f(x)$')\n",
    "    plt.ylim(-10, 20)\n",
    "    plt.legend(loc='upper left')\n",
    "    plt.show()"
   ]
  },
  {
   "cell_type": "code",
   "execution_count": null,
   "metadata": {},
   "outputs": [],
   "source": [
    "interactive_plot = interactive(make_plot, \n",
    "                               X=fixed(X), y=fixed(y),\n",
    "                               log_scale_length=widgets.FloatSlider(min=-6,max=2,step=0.1,value=-1.,description=\"log scale-length\", continuous_update=False), \n",
    "                               log_alpha=widgets.FloatSlider(min=-3,max=3,step=0.1,value=0,description=\"log regularization\", continuous_update=False))"
   ]
  },
  {
   "cell_type": "code",
   "execution_count": null,
   "metadata": {},
   "outputs": [],
   "source": [
    "interactive_plot"
   ]
  }
 ],
 "metadata": {
  "kernelspec": {
   "display_name": "Python 3",
   "language": "python",
   "name": "python3"
  },
  "language_info": {
   "codemirror_mode": {
    "name": "ipython",
    "version": 3
   },
   "file_extension": ".py",
   "mimetype": "text/x-python",
   "name": "python",
   "nbconvert_exporter": "python",
   "pygments_lexer": "ipython3",
   "version": "3.6.7"
  }
 },
 "nbformat": 4,
 "nbformat_minor": 2
}
